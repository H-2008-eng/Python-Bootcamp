{
 "cells": [
  {
   "cell_type": "markdown",
   "metadata": {},
   "source": [
    "# Assignment 2\n",
    "Instructions\n",
    "Complete all the exercises below. Each section corresponds to the concepts covered in class. Write your code in the designated cells and test your solutions."
   ]
  },
  {
   "cell_type": "markdown",
   "metadata": {},
   "source": [
    "Exercise 1: Shopping List Calculator <br>\n",
    "Topics Covered: Lists, Input, Arithmetic Operators, Strings, Print, Type Casting\n",
    "\n",
    "Task:\n",
    "\n",
    "Write a program that:\n",
    "\n",
    "- Asks the user to input the names and prices of 3 items (names as strings, prices as strings converted to floats using type casting).\n",
    "- Stores these in a list of sublists, e.g., [[\"apple\", 0.5], [\"bread\", 1.2], [\"milk\", 2.0]].\n",
    "- Calculates the total cost by directly accessing list elements (e.g., list[0][1]) with arithmetic operators.\n",
    "- Prints each item and its price (e.g., \"Item: apple - Price: $0.50\") and the total cost in a formatted way using the print() function.\n",
    "\n",
    "Bonus Challenge:\n",
    "Ask the user for a tax rate (e.g., 5%) as input, convert it to a float, and add the tax amount to the total (tax = total * (rate / 100))."
   ]
  },
  {
   "cell_type": "code",
   "execution_count": 13,
   "metadata": {},
   "outputs": [
    {
     "name": "stdout",
     "output_type": "stream",
     "text": [
      "item 1: apple\n",
      "item 1 price: 0.5\n",
      "item 2: bread\n",
      "item 2 price: 1.2\n",
      "item 3: milk\n",
      "item 3 price: 2.0\n",
      "[['apple', 0.5], ['bread', 1.2], ['milk', 2.0]]\n",
      "items:apple-price:0.500000\n",
      "itemsbread-price:1.200000\n",
      "itemsmilk_price:2.000000\n",
      "total_cost3.700000\n",
      "Tax amount: 0.18500000000000003\n",
      "tax_amount_with_total 3.8850000000000002\n"
     ]
    }
   ],
   "source": [
    "item_names_1 = input()\n",
    "items_price_1 = float(input())\n",
    "\n",
    "item_names_2 = input()\n",
    "items_price_2 = float(input())\n",
    "\n",
    "item_names_3 = input()\n",
    "items_price_3 = float(input())\n",
    "\n",
    "print(\"item 1:\",item_names_1)\n",
    "print(\"item 1 price:\",items_price_1)\n",
    "\n",
    "print(\"item 2:\",item_names_2)\n",
    "print(\"item 2 price:\",items_price_2)\n",
    "\n",
    "print(\"item 3:\",item_names_3)\n",
    "print(\"item 3 price:\",items_price_3)\n",
    "\n",
    "items = [[item_names_1,items_price_1],[item_names_2,items_price_2],[item_names_3,items_price_3]]\n",
    "print(items)\n",
    "\n",
    "total_cost = items[0][1] + items[1][1] + items[2][1]\n",
    "\n",
    "items_list_1 = (f\"items:{items[0][0]}-price:{items[0][1]:2f}\")\n",
    "items_list_2 = (f\"items{items[1][0]}-price:{items[1][1]:2f}\")\n",
    "items_list_3 = (f\"items{items[2][0]}_price:{items[2][1]:2f}\")\n",
    "\n",
    "print(items_list_1)\n",
    "print(items_list_2)\n",
    "print(items_list_3)\n",
    "\n",
    "print(f\"total_cost{total_cost:2f}\")\n",
    "\n",
    "tax = input(\"Enter the tax percentage: \")\n",
    "tax = float(tax)\n",
    "\n",
    "tax_amount = total_cost * (tax / 100)\n",
    "print(\"Tax amount:\", tax_amount)\n",
    "\n",
    "\n",
    "tax_amount_with_total = total_cost + tax_amount\n",
    "print(\"tax_amount_with_total\",tax_amount_with_total)\n"
   ]
  },
  {
   "cell_type": "markdown",
   "metadata": {},
   "source": [
    "Exercise 2: Student Grade Manager <br>\n",
    "Topics Covered: Lists, List Methods, Indexing, Input, Type Casting, Variables, Print\n",
    "\n",
    "Task:\n",
    "\n",
    "Write a program that:\n",
    "\n",
    "- Creates a list called grades with exactly 3 predefined scores (e.g., [85.5, 90.0, 78.5]).\n",
    "- Asks the user to input 1 additional score (as a string, converted to a float) and adds it to the list using the append() method.\n",
    "- Uses indexing to print the first score and the last score.\n",
    "- Calculates the average of the 4 scores by adding them with arithmetic operators and dividing by 4.\n",
    "- Uses the sort() method to sort the list and prints the sorted list.\n",
    "\n",
    "Bonus Challenge:\n",
    "Use the insert() method to add a bonus score of 5.0 at the start of the list and print the updated list."
   ]
  },
  {
   "cell_type": "code",
   "execution_count": 14,
   "metadata": {},
   "outputs": [
    {
     "name": "stdout",
     "output_type": "stream",
     "text": [
      "[85.5, 90.0, 78.5]\n",
      "[85.5, 90.0, 78.5, 70.5]\n",
      "first score: 85.5\n",
      "last score: 70.5\n",
      "total: 324.5\n",
      "average: 81.125\n",
      "[70.5, 78.5, 85.5, 90.0]\n",
      "[5.0, 70.5, 78.5, 85.5, 90.0]\n"
     ]
    }
   ],
   "source": [
    "grades = [85.5,90.0,78.5]\n",
    "print(grades)\n",
    "user_input = input(\"add one score\")\n",
    "a = float(user_input)\n",
    "grades.append(a)\n",
    "print(grades)\n",
    "print(\"first score:\",grades[0])\n",
    "print(\"last score:\",grades[3])\n",
    "total = grades[0] + grades[1] + grades[2] + grades[3]\n",
    "print(\"total:\",total)\n",
    "avg = total / 4\n",
    "print(\"average:\",avg)\n",
    "grades.sort()\n",
    "print(grades)\n",
    "grades.insert(0,5.0)\n",
    "print(grades)\n",
    "\n"
   ]
  },
  {
   "cell_type": "markdown",
   "metadata": {},
   "source": [
    "Exercise 3: Word Slicer <br>\n",
    "Topics Covered: Strings, Lists, Slicing, Indexing, Input, Print, Datatypes\n",
    "\n",
    "Task:\n",
    "\n",
    "Write a program that:\n",
    "\n",
    "- Asks the user to input a sentence with at least 4 words (e.g., \"I love to code\").\n",
    "- Converts the sentence into a list of words using the split() method.\n",
    "- Uses slicing to print:\n",
    "- The first 2 words.\n",
    "- The last 2 words.\n",
    "- Uses indexing to print the third word.\n",
    "- Prints the total number of words using len() and the datatype of the list using type().\n",
    "\n",
    "Bonus Challenge:\n",
    "Create a new string by concatenating the first and last words from the list (e.g., \"I code\") and print it."
   ]
  },
  {
   "cell_type": "code",
   "execution_count": 1,
   "metadata": {},
   "outputs": [
    {
     "name": "stdout",
     "output_type": "stream",
     "text": [
      "I love to code\n",
      "['I', 'love', 'to', 'code']\n",
      "first 2 words: ['I', 'love']\n",
      "last two words: ['to', 'code']\n",
      "third word: to\n",
      "total number of words: 4\n",
      "data type: <class 'list'>\n",
      "I code\n"
     ]
    }
   ],
   "source": [
    "sentence = input(\"Enter the sentence\")\n",
    "print(sentence)\n",
    "words = sentence.split()\n",
    "print(words)\n",
    "print(\"first 2 words:\",words[0:2])\n",
    "print(\"last two words:\",words[2:])\n",
    "print(\"third word:\",words[2])\n",
    "print(\"total number of words:\",len(words))\n",
    "print(\"data type:\",type(words))\n",
    "string = words[0] + \" \" + words[3]\n",
    "print(string)\n",
    "\n"
   ]
  },
  {
   "cell_type": "markdown",
   "metadata": {},
   "source": [
    "Exercise 4: Name Analyzer <br>\n",
    "Topics Covered: Strings, Lists, Slicing, Indexing, Input, Print, List Methods\n",
    "\n",
    "Task:\n",
    "\n",
    "Write a program that:\n",
    "\n",
    "- Asks the user to input a full name with exactly 3 parts (e.g., \"John Adam Smith\").\n",
    "- Splits the name into a list of individual names using split().\n",
    "- Uses indexing to print the first name and last name.\n",
    "- Uses slicing to print the middle name.\n",
    "- Creates a new list with the lengths of each name (e.g., [len(names[0])]) and prints it.\n",
    "- Calculates and prints the total number of characters by adding the lengths.\n",
    "\n",
    "Bonus Challenge:\n",
    "Use the pop() method to remove the middle name and print the updated list (e.g., [\"John\", \"Smith\"])."
   ]
  },
  {
   "cell_type": "code",
   "execution_count": 15,
   "metadata": {},
   "outputs": [
    {
     "name": "stdout",
     "output_type": "stream",
     "text": [
      "Hussein Ali Roshan\n",
      "['Hussein', 'Ali', 'Roshan']\n",
      "first name: Hussein\n",
      "last name: Roshan\n",
      "middle name: Ali\n",
      "[7, 3, 6]\n",
      "16\n",
      "['Hussein', 'Roshan']\n"
     ]
    }
   ],
   "source": [
    "name = input(\"Enter the name\")\n",
    "print(name)\n",
    "name_parts = name.split()\n",
    "print(name_parts)\n",
    "print(\"first name:\",name_parts[0])\n",
    "print(\"last name:\",name_parts[2])\n",
    "print(\"middle name:\",name_parts[1])\n",
    "name_length = [len(name_parts[0]),\n",
    "len(name_parts[1]),\n",
    "len(name_parts[2])]\n",
    "print(name_length)\n",
    "total_number = sum(name_length)\n",
    "print(total_number)\n",
    "name_parts.pop(1)\n",
    "print(name_parts)\n",
    "\n"
   ]
  },
  {
   "cell_type": "markdown",
   "metadata": {},
   "source": [
    "Exercise 5: Employee Database Manager <br>\n",
    "Topics Covered: Dictionaries with Lists as Values, Dictionary Methods, List Operations, Sorting\n",
    "Task:\n",
    "Write a program that:\n",
    "\n",
    "- Creates a dictionary called employee_data with keys \"names\", \"departments\", and \"salaries\" where values are lists (e.g., {\"names\": [\"Alice\", \"Bob\", \"Carol\"], \"departments\": [\"IT\", \"HR\", \"Finance\"], \"salaries\": [75000, 65000, 80000]}).\n",
    "- Asks the user to input a new employee name and appends it to the \"names\" list.\n",
    "- Convert the dictionary keys to a list and prints it.\n",
    "- Sorts the names list using and prints the updated dictionary.\n",
    "- Uses indexing to print the first employee's name and salary.\n",
    "- Converts .values() to a list and prints the total number of data categories\n",
    "\n",
    "Bonus Challenge: \n",
    "Create a sorted list of department keys using sorted(list(employee_data.keys())) and print it."
   ]
  },
  {
   "cell_type": "code",
   "execution_count": 17,
   "metadata": {},
   "outputs": [
    {
     "name": "stdout",
     "output_type": "stream",
     "text": [
      "{'names': ['Alice', 'Bob', 'Carol', 'John'], 'departments': ['IT', 'HR', 'Finance'], 'salaries': [75000, 65000, 80000]}\n",
      "['names', 'departments', 'salaries']\n",
      "['departments', 'names', 'salaries']\n",
      "Alice\n",
      "75000\n",
      "[['Alice', 'Bob', 'Carol', 'John'], ['IT', 'HR', 'Finance'], [75000, 65000, 80000]]\n",
      "total words 3\n",
      "['departments', 'names', 'salaries']\n"
     ]
    }
   ],
   "source": [
    "employe_data = {\"names\":[\"Alice\",\"Bob\",\"Carol\"],\n",
    "               \"departments\":[\"IT\",\"HR\",\"Finance\"],\n",
    "               \"salaries\":[75000,65000,80000]}\n",
    "add_name = input(\"Enter a new employee\")\n",
    "employe_data[\"names\"].append(add_name)\n",
    "print(employe_data)\n",
    "employe_data_list = list(employe_data.keys())\n",
    "print(employe_data_list)\n",
    "employe_data_list.sort()\n",
    "print(employe_data_list)\n",
    "first_name = employe_data[\"names\"][0]\n",
    "first_salary = employe_data[\"salaries\"][0]\n",
    "print(first_name)\n",
    "print(first_salary)\n",
    "values_list = list(employe_data.values())\n",
    "print(values_list)\n",
    "print(\"total words\",len(values_list))\n",
    "sorted_department = sorted(list(employe_data.keys()))\n",
    "print(sorted_department)\n",
    "\n",
    "\n",
    "\n"
   ]
  },
  {
   "cell_type": "markdown",
   "metadata": {},
   "source": [
    "Exercise 6: Student Course Tracker <br>\n",
    "Topics Covered: Dictionaries, Input, Dictionary Methods, String Operations, Conditional Logic\n",
    "Task:\n",
    "Write a program that:\n",
    "\n",
    "- Creates a dictionary called library_books with keys \"title\", \"author\", \"isbn\", and \"available\" with initial values (e.g., {\"title\": \"1984\", \"author\": \"George Orwell\", \"isbn\": \"978-0451524935\", \"available\": True}).\n",
    "- Asks the user to input a new ISBN number and updates the \"isbn\" value in the dictionary.\n",
    "- Uses the get() method to safely retrieve and print the \"author\" value, with a default message if the key doesn't exist.\n",
    "- Toggles the \"available\" status from True to False (or vice versa) using indexing.\n",
    "- Uses the pop() method to remove and print the \"isbn\" key-value pair.\n",
    "- Prints the final dictionary using items() method in a formatted way.\n",
    "\n",
    "Bonus Challenge: \n",
    "Ask the user if they want to add a \"genre\" key, and if yes, prompt for input and add it to the dictionary using setdefault() method.\n",
    "\n",
    "Reference: https://www.w3schools.com/python/python_ref_dictionary.asp"
   ]
  },
  {
   "cell_type": "code",
   "execution_count": 23,
   "metadata": {},
   "outputs": [
    {
     "name": "stdout",
     "output_type": "stream",
     "text": [
      "{'title': '1984', 'author': 'George Orwell', 'isbn': ['978-0451524935', '057-83967396573'], 'available': True}\n",
      "George Orwell\n",
      "{'title': '1984', 'author': 'George Orwell', 'isbn': ['978-0451524935', '057-83967396573'], 'available': False}\n",
      "['978-0451524935', '057-83967396573']\n",
      "{'title': '1984', 'author': 'George Orwell', 'available': False}\n",
      "dict_items([('title', '1984'), ('author', 'George Orwell'), ('available', False)])\n",
      "{'title': '1984', 'author': 'George Orwell', 'available': False, 'genre': 'books'}\n"
     ]
    }
   ],
   "source": [
    "library_books = {\"title\":\"1984\"\n",
    "                 ,\"author\":\"George Orwell\"\n",
    "                 ,\"isbn\": [\"978-0451524935\"]\n",
    "                 ,\"available\":True}\n",
    "new_isbn_number = input(\"Enter isbn number\")\n",
    "library_books[\"isbn\"].append(str(new_isbn_number))\n",
    "print(library_books)\n",
    "\n",
    "a = library_books.get(\"author\")\n",
    "print(a)\n",
    "\n",
    "library_books[\"available\"] = not library_books[\"available\"]\n",
    "\n",
    "print(library_books)\n",
    "\n",
    "remove = library_books.pop(\"isbn\")\n",
    "print(remove)\n",
    "\n",
    "print(library_books)\n",
    "\n",
    "items = library_books.items()\n",
    "print(items)\n",
    "\n",
    "add_genre = input(\"would you like to add a genre yes or no\")\n",
    "if add_genre == \"yes\":\n",
    "    genre_input = input(\"Enter a genre for the book: \")\n",
    "    library_books.setdefault(\"genre\", genre_input)\n",
    "\n",
    "print(library_books)\n",
    "\n",
    "\n",
    "\n"
   ]
  },
  {
   "cell_type": "markdown",
   "metadata": {},
   "source": []
  },
  {
   "cell_type": "markdown",
   "metadata": {},
   "source": [
    "Exercise 7: Restaurant Order System <br>\n",
    "Topics Covered: Dictionaries with Lists, List Indexing, Dictionary Methods, Sorting\n",
    "Task:\n",
    "Write a program that:\n",
    "\n",
    "- Creates a dictionary called orders with keys \"items\", \"quantities\", and \"prices\" where values are lists (e.g., {\"items\": [\"Pizza\", \"Burger\", \"Salad\"], \"quantities\": [2, 1, 3], \"prices\": [12.99, 8.50, 6.75]}).\n",
    "- Add a new item to the orders.\n",
    "- Get all keys as a list and prints the first key using indexing.\n",
    "- Accesses and prints the third item and its quantity using indexing\n",
    "- Converts the .values() method to a list and prints it.\n",
    "- Sorts the items list and prints the updated dictionary.\n",
    "\n",
    "Bonus Challenge: \n",
    "Create a sorted list of all keys"
   ]
  },
  {
   "cell_type": "code",
   "execution_count": 45,
   "metadata": {},
   "outputs": [
    {
     "name": "stdout",
     "output_type": "stream",
     "text": [
      "{'items': ['Pizza', 'Burger', 'Salad', 'sandwich'], 'quantities': [2, 1, 3], 'prices': [12.99, 8.5, 6.75]}\n",
      "items\n",
      "Salad\n",
      "3\n",
      "[['Pizza', 'Burger', 'Salad', 'sandwich'], [2, 1, 3], [12.99, 8.5, 6.75]]\n",
      "Sorted items: ['Burger', 'Pizza', 'Salad', 'sandwich']\n",
      "['items', 'prices', 'quantities']\n"
     ]
    }
   ],
   "source": [
    "dictionary = {\"items\":[\"Pizza\",\"Burger\",\"Salad\"],\n",
    "              \"quantities\":[2,1,3],\n",
    "              \"prices\":[12.99,8.50,6.75]}\n",
    "\n",
    "dictionary[\"items\"].append(\"sandwich\")\n",
    "print(dictionary)\n",
    "\n",
    "a = list(dictionary.keys())\n",
    "print(a[0])\n",
    "\n",
    "third_item = dictionary[\"items\"][2]\n",
    "print(third_item)\n",
    "\n",
    "third_quantity = dictionary[\"quantities\"][2]\n",
    "print(third_quantity)\n",
    "\n",
    "b = list(dictionary.values())\n",
    "print(b)\n",
    "\n",
    "sorted_items = sorted(dictionary['items'])\n",
    "print(\"Sorted items:\", sorted_items)\n",
    "\n",
    "c = list(dictionary.keys())\n",
    "c.sort()\n",
    "print(c)\n",
    "\n",
    "\n",
    "\n",
    "\n",
    "\n"
   ]
  }
 ],
 "metadata": {
  "kernelspec": {
   "display_name": "Python 3",
   "language": "python",
   "name": "python3"
  },
  "language_info": {
   "codemirror_mode": {
    "name": "ipython",
    "version": 3
   },
   "file_extension": ".py",
   "mimetype": "text/x-python",
   "name": "python",
   "nbconvert_exporter": "python",
   "pygments_lexer": "ipython3",
   "version": "3.11.9"
  },
  "orig_nbformat": 4
 },
 "nbformat": 4,
 "nbformat_minor": 2
}
